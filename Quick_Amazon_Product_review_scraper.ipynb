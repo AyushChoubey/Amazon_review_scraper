{
 "cells": [
  {
   "cell_type": "code",
   "execution_count": 2,
   "id": "b9dbcaad",
   "metadata": {},
   "outputs": [
    {
     "name": "stdout",
     "output_type": "stream",
     "text": [
      "3.9.7\n"
     ]
    }
   ],
   "source": [
    "from platform import python_version\n",
    "\n",
    "print(python_version())"
   ]
  },
  {
   "cell_type": "code",
   "execution_count": 4,
   "id": "e020d259",
   "metadata": {},
   "outputs": [
    {
     "name": "stdout",
     "output_type": "stream",
     "text": [
      "Collecting requests_html\n",
      "  Using cached requests_html-0.10.0-py3-none-any.whl (13 kB)\n",
      "Collecting w3lib\n",
      "  Using cached w3lib-1.22.0-py2.py3-none-any.whl (20 kB)\n",
      "Collecting pyquery\n",
      "  Using cached pyquery-1.4.3-py3-none-any.whl (22 kB)\n",
      "Collecting bs4\n",
      "  Using cached bs4-0.0.1-py3-none-any.whl\n",
      "Collecting parse\n",
      "  Using cached parse-1.19.0-py3-none-any.whl\n",
      "Requirement already satisfied: requests in c:\\ana\\lib\\site-packages (from requests_html) (2.26.0)\n",
      "Collecting fake-useragent\n",
      "  Using cached fake_useragent-0.1.11-py3-none-any.whl\n",
      "Collecting pyppeteer>=0.0.14\n",
      "  Using cached pyppeteer-1.0.2-py3-none-any.whl (83 kB)\n",
      "Requirement already satisfied: tqdm<5.0.0,>=4.42.1 in c:\\ana\\lib\\site-packages (from pyppeteer>=0.0.14->requests_html) (4.62.3)\n",
      "Collecting pyee<9.0.0,>=8.1.0\n",
      "  Using cached pyee-8.2.2-py2.py3-none-any.whl (12 kB)\n",
      "Requirement already satisfied: urllib3<2.0.0,>=1.25.8 in c:\\ana\\lib\\site-packages (from pyppeteer>=0.0.14->requests_html) (1.26.7)\n",
      "Collecting websockets<11.0,>=10.0\n",
      "  Downloading websockets-10.3-cp39-cp39-win_amd64.whl (98 kB)\n",
      "Requirement already satisfied: appdirs<2.0.0,>=1.4.3 in c:\\ana\\lib\\site-packages (from pyppeteer>=0.0.14->requests_html) (1.4.4)\n",
      "Requirement already satisfied: importlib-metadata>=1.4 in c:\\ana\\lib\\site-packages (from pyppeteer>=0.0.14->requests_html) (4.8.1)\n",
      "Requirement already satisfied: certifi>=2021 in c:\\ana\\lib\\site-packages (from pyppeteer>=0.0.14->requests_html) (2021.10.8)\n",
      "Requirement already satisfied: zipp>=0.5 in c:\\ana\\lib\\site-packages (from importlib-metadata>=1.4->pyppeteer>=0.0.14->requests_html) (3.6.0)\n",
      "Requirement already satisfied: colorama in c:\\ana\\lib\\site-packages (from tqdm<5.0.0,>=4.42.1->pyppeteer>=0.0.14->requests_html) (0.4.4)\n",
      "Requirement already satisfied: beautifulsoup4 in c:\\ana\\lib\\site-packages (from bs4->requests_html) (4.10.0)\n",
      "Requirement already satisfied: soupsieve>1.2 in c:\\ana\\lib\\site-packages (from beautifulsoup4->bs4->requests_html) (2.2.1)\n",
      "Collecting cssselect>0.7.9\n",
      "  Using cached cssselect-1.1.0-py2.py3-none-any.whl (16 kB)\n",
      "Requirement already satisfied: lxml>=2.1 in c:\\ana\\lib\\site-packages (from pyquery->requests_html) (4.6.3)\n",
      "Requirement already satisfied: idna<4,>=2.5 in c:\\ana\\lib\\site-packages (from requests->requests_html) (3.2)\n",
      "Requirement already satisfied: charset-normalizer~=2.0.0 in c:\\ana\\lib\\site-packages (from requests->requests_html) (2.0.4)\n",
      "Requirement already satisfied: six>=1.4.1 in c:\\ana\\lib\\site-packages (from w3lib->requests_html) (1.16.0)\n",
      "Installing collected packages: websockets, pyee, cssselect, w3lib, pyquery, pyppeteer, parse, fake-useragent, bs4, requests-html\n",
      "Successfully installed bs4-0.0.1 cssselect-1.1.0 fake-useragent-0.1.11 parse-1.19.0 pyee-8.2.2 pyppeteer-1.0.2 pyquery-1.4.3 requests-html-0.10.0 w3lib-1.22.0 websockets-10.3\n"
     ]
    }
   ],
   "source": [
    "!pip install requests_html"
   ]
  },
  {
   "cell_type": "code",
   "execution_count": 1,
   "id": "2fc293fa",
   "metadata": {},
   "outputs": [],
   "source": [
    "from requests_html import HTMLSession\n",
    "import pandas as pd"
   ]
  },
  {
   "cell_type": "code",
   "execution_count": 16,
   "id": "4fbb735f",
   "metadata": {},
   "outputs": [],
   "source": [
    "headers = {'User-Agent':'Mozilla/5.0 (Windows NT 10.0; Win64; x64) AppleWebKit/537.36 (KHTML, like Gecko) Chrome/97.0.4692.71 Safari/537.36'}\n"
   ]
  },
  {
   "cell_type": "code",
   "execution_count": 17,
   "id": "debafd40",
   "metadata": {},
   "outputs": [],
   "source": [
    "#starting HTML session \n",
    "session = HTMLSession()"
   ]
  },
  {
   "cell_type": "code",
   "execution_count": 18,
   "id": "c2299233",
   "metadata": {},
   "outputs": [],
   "source": [
    "#Review page URL of a random Product on Amazon\n",
    "r= session.get('https://www.amazon.in/Yonex-Professional-Power-Cushion-Tennis/product-reviews/B084CYXQM8/ref=cm_cr_arp_d_paging_btm_next_2?ie=UTF8&reviewerType=all_reviews&pageNumber=2')"
   ]
  },
  {
   "cell_type": "code",
   "execution_count": 19,
   "id": "f68eb5b0",
   "metadata": {},
   "outputs": [],
   "source": [
    "def parse(reviews):#Parse the HTML and convert it into DataFrame(Tabular Format)\n",
    "    total =[]\n",
    "    for review in reviews :\n",
    "        try:\n",
    "            title = review.find('a[data-hook=review-title]', first = True).text.split('\\n')[0].split('Reviewed')[0]#getting title of the product\n",
    "            rating = review.find('i[data-hook= review-star-rating] span',first = True).text.split('\\n')[0].split(' ')[0]#getting rating of the product\n",
    "            body = review.find('span[data-hook=review-body] span',first = True).text.split('\\n')[0]#getting review text of the product\n",
    "\n",
    "            data = {\n",
    "                'title': title,\n",
    "                'rating':rating,\n",
    "                'body':body\n",
    "            }\n",
    "\n",
    "            total.append(data)\n",
    "            \n",
    "        except:\n",
    "            continue\n",
    "    return total\n"
   ]
  },
  {
   "cell_type": "code",
   "execution_count": 20,
   "id": "ae512ccb",
   "metadata": {},
   "outputs": [],
   "source": [
    "a=r.html.find('div[data-hook=review]') "
   ]
  },
  {
   "cell_type": "code",
   "execution_count": 22,
   "id": "24056b4e",
   "metadata": {},
   "outputs": [
    {
     "data": {
      "text/plain": [
       "[<Element 'div' id='RTDP081NYG648' data-hook='review' class=('a-section', 'review', 'aok-relative')>,\n",
       " <Element 'div' id='RTMIAWW9Q7UZZ' data-hook='review' class=('a-section', 'review', 'aok-relative')>,\n",
       " <Element 'div' id='R3M4J5SGOEN23M' data-hook='review' class=('a-section', 'review', 'aok-relative')>,\n",
       " <Element 'div' id='R2TNGGF4M47X9S' data-hook='review' class=('a-section', 'review', 'aok-relative')>,\n",
       " <Element 'div' id='R32NA3TU4RR737' data-hook='review' class=('a-section', 'review', 'aok-relative')>]"
      ]
     },
     "execution_count": 22,
     "metadata": {},
     "output_type": "execute_result"
    }
   ],
   "source": [
    "a #all the product review on the product revoew page"
   ]
  },
  {
   "cell_type": "code",
   "execution_count": 23,
   "id": "4697ec43",
   "metadata": {},
   "outputs": [],
   "source": [
    "total = parse(a)"
   ]
  },
  {
   "cell_type": "code",
   "execution_count": 25,
   "id": "b17c8bc5",
   "metadata": {},
   "outputs": [],
   "source": [
    "data = pd.DataFrame(total2)"
   ]
  },
  {
   "cell_type": "code",
   "execution_count": 26,
   "id": "aff3238f",
   "metadata": {},
   "outputs": [
    {
     "data": {
      "text/html": [
       "<div>\n",
       "<style scoped>\n",
       "    .dataframe tbody tr th:only-of-type {\n",
       "        vertical-align: middle;\n",
       "    }\n",
       "\n",
       "    .dataframe tbody tr th {\n",
       "        vertical-align: top;\n",
       "    }\n",
       "\n",
       "    .dataframe thead th {\n",
       "        text-align: right;\n",
       "    }\n",
       "</style>\n",
       "<table border=\"1\" class=\"dataframe\">\n",
       "  <thead>\n",
       "    <tr style=\"text-align: right;\">\n",
       "      <th></th>\n",
       "      <th>title</th>\n",
       "      <th>rating</th>\n",
       "      <th>body</th>\n",
       "    </tr>\n",
       "  </thead>\n",
       "  <tbody>\n",
       "    <tr>\n",
       "      <th>0</th>\n",
       "      <td>Return of shoe</td>\n",
       "      <td>1.0</td>\n",
       "      <td>Color change recd and shoe sole came out</td>\n",
       "    </tr>\n",
       "    <tr>\n",
       "      <th>1</th>\n",
       "      <td>Not good in 15 days shoes Torn</td>\n",
       "      <td>1.0</td>\n",
       "      <td>Not good qoulity. What can i do</td>\n",
       "    </tr>\n",
       "    <tr>\n",
       "      <th>2</th>\n",
       "      <td>Highly recommended</td>\n",
       "      <td>5.0</td>\n",
       "      <td>Nice product</td>\n",
       "    </tr>\n",
       "    <tr>\n",
       "      <th>3</th>\n",
       "      <td>It's good to use</td>\n",
       "      <td>4.0</td>\n",
       "      <td>After using 1 week it's become very comfortabl...</td>\n",
       "    </tr>\n",
       "    <tr>\n",
       "      <th>4</th>\n",
       "      <td>Very bad quality .</td>\n",
       "      <td>2.0</td>\n",
       "      <td>Very bad quality.sole is gone with in 2 months...</td>\n",
       "    </tr>\n",
       "  </tbody>\n",
       "</table>\n",
       "</div>"
      ],
      "text/plain": [
       "                             title rating  \\\n",
       "0                  Return of shoe     1.0   \n",
       "1  Not good in 15 days shoes Torn     1.0   \n",
       "2              Highly recommended     5.0   \n",
       "3                It's good to use     4.0   \n",
       "4              Very bad quality .     2.0   \n",
       "\n",
       "                                                body  \n",
       "0           Color change recd and shoe sole came out  \n",
       "1                    Not good qoulity. What can i do  \n",
       "2                                       Nice product  \n",
       "3  After using 1 week it's become very comfortabl...  \n",
       "4  Very bad quality.sole is gone with in 2 months...  "
      ]
     },
     "execution_count": 26,
     "metadata": {},
     "output_type": "execute_result"
    }
   ],
   "source": [
    "data"
   ]
  }
 ],
 "metadata": {
  "kernelspec": {
   "display_name": "Python 3 (ipykernel)",
   "language": "python",
   "name": "python3"
  },
  "language_info": {
   "codemirror_mode": {
    "name": "ipython",
    "version": 3
   },
   "file_extension": ".py",
   "mimetype": "text/x-python",
   "name": "python",
   "nbconvert_exporter": "python",
   "pygments_lexer": "ipython3",
   "version": "3.9.7"
  }
 },
 "nbformat": 4,
 "nbformat_minor": 5
}
